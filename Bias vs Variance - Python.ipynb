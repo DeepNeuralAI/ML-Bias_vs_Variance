{
 "cells": [
  {
   "cell_type": "markdown",
   "metadata": {},
   "source": [
    "## Regularized Linear Regression and Bias vs. Variance"
   ]
  },
  {
   "cell_type": "code",
   "execution_count": 375,
   "metadata": {},
   "outputs": [],
   "source": [
    "from scipy.io import loadmat\n",
    "from scipy.optimize import minimize\n",
    "import matplotlib.pyplot as plt\n",
    "import numpy as np\n",
    "\n",
    "data = loadmat('./ex5/ex5data1.mat'); \n",
    "\n",
    "X = data['X']; y = data['y']\n",
    "\n",
    "Xval = data['Xval']; yval = data['yval'];\n",
    "\n",
    "Xtest = data['Xtest']; ytest = data['ytest'];"
   ]
  },
  {
   "cell_type": "markdown",
   "metadata": {},
   "source": [
    "### Visualizing the dataset"
   ]
  },
  {
   "cell_type": "code",
   "execution_count": 376,
   "metadata": {},
   "outputs": [
    {
     "data": {
      "image/png": "[encoded data removed]",
      "text/plain": [
       "<Figure size 432x288 with 1 Axes>"
      ]
     },
     "metadata": {
      "needs_background": "light"
     },
     "output_type": "display_data"
    }
   ],
   "source": [
    "plt.scatter(X, y, color='r', marker='x')\n",
    "plt.ylabel('Water flowing out of the dam (y)')\n",
    "plt.xlabel('Change in water level (x)')\n",
    "plt.show()"
   ]
  },
  {
   "cell_type": "markdown",
   "metadata": {},
   "source": [
    "### Regularized Linear Regression Cost Function"
   ]
  },
  {
   "cell_type": "code",
   "execution_count": 377,
   "metadata": {},
   "outputs": [],
   "source": [
    "theta = np.array([1,1])[:, None]"
   ]
  },
  {
   "cell_type": "code",
   "execution_count": 378,
   "metadata": {},
   "outputs": [],
   "source": [
    "ones = np.ones((X.shape[0], 1)); X = np.hstack([ones, X])"
   ]
  },
  {
   "cell_type": "code",
   "execution_count": 379,
   "metadata": {},
   "outputs": [],
   "source": [
    "def linearRegCostFunction(theta, *args):\n",
    "    X, y, lmbda = args[0], args[1], args[2]\n",
    "    h = (X @ theta).reshape(-1, 1)\n",
    "    m = X.shape[0]\n",
    "    error = np.subtract(h, y)\n",
    "    sq_error = error ** 2\n",
    "    sse = np.sum(sq_error) / (2*m)\n",
    "    reg_term = lmbda / (2*m) * np.sum(theta[1:]**2)\n",
    "    \n",
    "    J = sse + reg_term\n",
    "    error = (h - y)\n",
    "    grad=(1/m)*(X.T @error)\n",
    "    reg = (lmbda * theta * (1/m)).reshape(-1, 1)\n",
    "    grad = grad + reg\n",
    "   \n",
    "\n",
    "    return J, grad.reshape(-1)"
   ]
  },
  {
   "cell_type": "code",
   "execution_count": 380,
   "metadata": {
    "scrolled": false
   },
   "outputs": [
    {
     "data": {
      "text/plain": [
       "(2,)"
      ]
     },
     "execution_count": 380,
     "metadata": {},
     "output_type": "execute_result"
    }
   ],
   "source": [
    "J, grad = linearRegCostFunction(theta, X, y, 1); grad.shape"
   ]
  },
  {
   "cell_type": "markdown",
   "metadata": {},
   "source": [
    "### Regularized Linear Regression Gradient"
   ]
  },
  {
   "cell_type": "code",
   "execution_count": 381,
   "metadata": {},
   "outputs": [],
   "source": [
    "def gradient(theta, *args):\n",
    "    X, y, lmbda = args[0], args[1], args[2]\n",
    "    m = len(y)\n",
    "    h = (X @ theta).reshape(-1, 1)\n",
    "    error = (h - y)\n",
    "    grad=(1/m)*(np.matmul(X.T, error))\n",
    "    return grad.reshape(-1)"
   ]
  },
  {
   "cell_type": "code",
   "execution_count": 382,
   "metadata": {},
   "outputs": [
    {
     "data": {
      "text/plain": [
       "array([-15.30301567, 598.16741084])"
      ]
     },
     "execution_count": 382,
     "metadata": {},
     "output_type": "execute_result"
    }
   ],
   "source": [
    "gradient(theta, X, y, 1)"
   ]
  },
  {
   "cell_type": "markdown",
   "metadata": {},
   "source": [
    "### Fitting linear regression"
   ]
  },
  {
   "cell_type": "code",
   "execution_count": 383,
   "metadata": {},
   "outputs": [
    {
     "name": "stdout",
     "output_type": "stream",
     "text": [
      "Optimization terminated successfully.\n",
      "         Current function value: 22.373906\n",
      "         Iterations: 5\n",
      "         Function evaluations: 6\n",
      "         Gradient evaluations: 6\n"
     ]
    }
   ],
   "source": [
    "result = minimize(linearRegCostFunction, theta, \n",
    "                  args = (X, y, 0), jac = True, \n",
    "                  options={'disp': True})"
   ]
  },
  {
   "cell_type": "code",
   "execution_count": 384,
   "metadata": {},
   "outputs": [],
   "source": [
    "thetas = result['x']"
   ]
  },
  {
   "cell_type": "code",
   "execution_count": 385,
   "metadata": {},
   "outputs": [
    {
     "data": {
      "image/png": "[encoded data removed]",
      "text/plain": [
       "<Figure size 432x288 with 1 Axes>"
      ]
     },
     "metadata": {
      "needs_background": "light"
     },
     "output_type": "display_data"
    }
   ],
   "source": [
    "plt.scatter(X[:, 1], y, color='r', marker='x')\n",
    "plt.ylabel('Water flowing out of the dam (y)')\n",
    "plt.xlabel('Change in water level (x)')\n",
    "plt.plot(X[:, 1], thetas[0] + thetas[1] * X[:, 1], color='k')\n",
    "plt.show()"
   ]
  },
  {
   "cell_type": "markdown",
   "metadata": {},
   "source": [
    "## Learning Curves"
   ]
  },
  {
   "cell_type": "code",
   "execution_count": 386,
   "metadata": {},
   "outputs": [],
   "source": [
    "sz = np.arange(len(X)) + 1;"
   ]
  },
  {
   "cell_type": "code",
   "execution_count": 387,
   "metadata": {},
   "outputs": [],
   "source": [
    "trn_sz = [X[:i, :] for i in sz]"
   ]
  },
  {
   "cell_type": "code",
   "execution_count": 388,
   "metadata": {},
   "outputs": [],
   "source": [
    "ones = np.ones((Xval.shape[0], 1)); Xval = np.hstack([ones, Xval])"
   ]
  },
  {
   "cell_type": "code",
   "execution_count": 389,
   "metadata": {},
   "outputs": [],
   "source": [
    "def plot_learning_curves():\n",
    "    fig = plt.figure\n",
    "    for index, row in enumerate(trn_sz):\n",
    "        result = minimize(linearRegCostFunction, theta, \n",
    "                      args = (row, y[:index + 1], 0), jac = True, \n",
    "                      options={'disp': False})\n",
    "        error = result['fun']\n",
    "        thetas = result['x'][:, None]\n",
    "\n",
    "        # Cross Validation\n",
    "        J_cv, _ = linearRegCostFunction(thetas, Xval, yval, 0)\n",
    "\n",
    "        plt.scatter(index, error, color='blue')\n",
    "        plt.scatter(index, J_cv, color='green')\n",
    "    plt.ylabel('Error')\n",
    "    plt.xlabel('Num Training Examples')\n",
    "    plt.title('Learning Curve for Linear Regression');"
   ]
  },
  {
   "cell_type": "code",
   "execution_count": 390,
   "metadata": {},
   "outputs": [
    {
     "data": {
      "image/png": "[encoded data removed]",
      "text/plain": [
       "<Figure size 432x288 with 1 Axes>"
      ]
     },
     "metadata": {
      "needs_background": "light"
     },
     "output_type": "display_data"
    }
   ],
   "source": [
    "plot_learning_curves()"
   ]
  },
  {
   "cell_type": "markdown",
   "metadata": {},
   "source": [
    "## Polynomial Regression"
   ]
  },
  {
   "cell_type": "code",
   "execution_count": 391,
   "metadata": {},
   "outputs": [],
   "source": [
    "def add_features(X, p):\n",
    "    X = X[:, 1].reshape(-1, 1)\n",
    "    p_range = (np.arange(p) + 1).reshape(1, -1)\n",
    "    return X ** p_range"
   ]
  },
  {
   "cell_type": "code",
   "execution_count": 392,
   "metadata": {},
   "outputs": [],
   "source": [
    "x_poly = add_features(X, 8)"
   ]
  },
  {
   "cell_type": "code",
   "execution_count": 393,
   "metadata": {},
   "outputs": [],
   "source": [
    "def featureNormalize(X):\n",
    "    avg = np.mean(X, axis=0)\n",
    "    std = np.std(X, axis=0)\n",
    "    return (X - avg) / std\n",
    "    "
   ]
  },
  {
   "cell_type": "code",
   "execution_count": 394,
   "metadata": {},
   "outputs": [],
   "source": [
    "x_poly_normalized = featureNormalize(x_poly);"
   ]
  },
  {
   "cell_type": "code",
   "execution_count": 395,
   "metadata": {},
   "outputs": [],
   "source": [
    "ones = np.ones((x_poly_normalized.shape[0], 1));"
   ]
  },
  {
   "cell_type": "code",
   "execution_count": 396,
   "metadata": {},
   "outputs": [],
   "source": [
    "x_p = np.hstack([ones, x_poly_normalized])"
   ]
  },
  {
   "cell_type": "code",
   "execution_count": 397,
   "metadata": {},
   "outputs": [],
   "source": [
    "init_thetas = np.ones(x_p.shape[1]); "
   ]
  },
  {
   "cell_type": "code",
   "execution_count": 398,
   "metadata": {},
   "outputs": [
    {
     "name": "stdout",
     "output_type": "stream",
     "text": [
      "Optimization terminated successfully.\n",
      "         Current function value: 0.028896\n",
      "         Iterations: 75\n",
      "         Function evaluations: 77\n",
      "         Gradient evaluations: 77\n"
     ]
    }
   ],
   "source": [
    "result = minimize(linearRegCostFunction, init_thetas, \n",
    "                  args = (x_p, y, 0), jac = True, \n",
    "                  options={'disp': True})"
   ]
  },
  {
   "cell_type": "code",
   "execution_count": 399,
   "metadata": {},
   "outputs": [],
   "source": [
    "thetas = result['x']"
   ]
  },
  {
   "cell_type": "code",
   "execution_count": 400,
   "metadata": {},
   "outputs": [
    {
     "data": {
      "image/png": "[encoded data removed]",
      "text/plain": [
       "<Figure size 432x288 with 1 Axes>"
      ]
     },
     "metadata": {
      "needs_background": "light"
     },
     "output_type": "display_data"
    }
   ],
   "source": [
    "plt.scatter(X[:,1], y, color='r', marker='x')\n",
    "plt.ylabel('Water flowing out of the dam (y)')\n",
    "plt.xlabel('Change in water level (x)')\n",
    "plt.scatter(X[:, 1], x_p @ thetas)\n",
    "plt.show()"
   ]
  },
  {
   "cell_type": "markdown",
   "metadata": {},
   "source": [
    "### Learning Curve - Polynomial Regression"
   ]
  },
  {
   "cell_type": "code",
   "execution_count": 401,
   "metadata": {},
   "outputs": [],
   "source": [
    "Xval = data['Xval']; yval = data['yval']"
   ]
  },
  {
   "cell_type": "code",
   "execution_count": 402,
   "metadata": {},
   "outputs": [],
   "source": [
    "sz = np.arange(len(x_p)) + 1;\n",
    "\n",
    "trn_sz = [x_p[:i, :] for i in sz]"
   ]
  },
  {
   "cell_type": "code",
   "execution_count": 403,
   "metadata": {},
   "outputs": [],
   "source": [
    "p_range = (np.arange(8) + 1).reshape(1, -1)\n",
    "Xval = Xval ** p_range"
   ]
  },
  {
   "cell_type": "code",
   "execution_count": 404,
   "metadata": {},
   "outputs": [],
   "source": [
    "Xval = featureNormalize(Xval)"
   ]
  },
  {
   "cell_type": "code",
   "execution_count": 405,
   "metadata": {},
   "outputs": [],
   "source": [
    "ones = np.ones((Xval.shape[0], 1));\n",
    "Xval = np.hstack([ones, Xval])"
   ]
  },
  {
   "cell_type": "code",
   "execution_count": 406,
   "metadata": {},
   "outputs": [
    {
     "data": {
      "text/plain": [
       "(21, 9)"
      ]
     },
     "execution_count": 406,
     "metadata": {},
     "output_type": "execute_result"
    }
   ],
   "source": [
    "Xval.shape"
   ]
  },
  {
   "cell_type": "code",
   "execution_count": 407,
   "metadata": {},
   "outputs": [],
   "source": [
    "def plot_error(thetas, lmbda):\n",
    "    fig = plt.figure\n",
    "    for index, row in enumerate(trn_sz):\n",
    "        result = minimize(linearRegCostFunction, thetas, \n",
    "                      args = (row, y[:index + 1], lmbda), jac = True, \n",
    "                      options={'disp': False})\n",
    "\n",
    "        error = result['fun']\n",
    "        thetas = result['x'][:, None]\n",
    "\n",
    "        # Cross Validation\n",
    "\n",
    "        J_cv, _ = linearRegCostFunction(thetas, Xval, yval, lmbda)\n",
    "\n",
    "        plt.scatter(index, error, color='blue')\n",
    "        plt.scatter(index, J_cv, color='green')\n",
    "    plt.ylabel('Error')\n",
    "    plt.xlabel('Num Training Examples')\n",
    "    plt.title('Polynomial Regression Learning Curve');\n",
    "    return thetas\n"
   ]
  },
  {
   "cell_type": "code",
   "execution_count": 408,
   "metadata": {},
   "outputs": [
    {
     "data": {
      "image/png": "[encoded data removed]",
      "text/plain": [
       "<Figure size 432x288 with 1 Axes>"
      ]
     },
     "metadata": {
      "needs_background": "light"
     },
     "output_type": "display_data"
    }
   ],
   "source": [
    "thetas = plot_error(thetas, 1)"
   ]
  },
  {
   "cell_type": "code",
   "execution_count": 409,
   "metadata": {},
   "outputs": [],
   "source": [
    "def plot_water(thetas):\n",
    "    plt.scatter(X[:,1], y, color='r', marker='x')\n",
    "    plt.ylabel('Water flowing out of the dam (y)')\n",
    "    plt.xlabel('Change in water level (x)')\n",
    "    plt.scatter(X[:, 1], x_p @ thetas)\n",
    "    plt.show()"
   ]
  },
  {
   "cell_type": "code",
   "execution_count": 410,
   "metadata": {},
   "outputs": [
    {
     "data": {
      "text/plain": [
       "array([[ 1.20411417],\n",
       "       [ 0.98922374],\n",
       "       [ 0.3415825 ],\n",
       "       [ 0.766057  ],\n",
       "       [ 0.15814426],\n",
       "       [ 0.56801609],\n",
       "       [ 0.0296748 ],\n",
       "       [ 0.42618791],\n",
       "       [-0.05193895]])"
      ]
     },
     "execution_count": 410,
     "metadata": {},
     "output_type": "execute_result"
    },
    {
     "data": {
      "image/png": "[encoded data removed]",
      "text/plain": [
       "<Figure size 432x288 with 1 Axes>"
      ]
     },
     "metadata": {
      "needs_background": "light"
     },
     "output_type": "display_data"
    }
   ],
   "source": [
    "plot_error(thetas, 100)"
   ]
  },
  {
   "cell_type": "code",
   "execution_count": 411,
   "metadata": {},
   "outputs": [
    {
     "data": {
      "image/png": "[encoded data removed]",
      "text/plain": [
       "<Figure size 432x288 with 1 Axes>"
      ]
     },
     "metadata": {
      "needs_background": "light"
     },
     "output_type": "display_data"
    }
   ],
   "source": [
    "plot_water(thetas)"
   ]
  },
  {
   "cell_type": "code",
   "execution_count": null,
   "metadata": {},
   "outputs": [],
   "source": []
  }
 ],
 "metadata": {
  "kernelspec": {
   "display_name": "Python 3",
   "language": "python",
   "name": "python3"
  },
  "language_info": {
   "codemirror_mode": {
    "name": "ipython",
    "version": 3
   },
   "file_extension": ".py",
   "mimetype": "text/x-python",
   "name": "python",
   "nbconvert_exporter": "python",
   "pygments_lexer": "ipython3",
   "version": "3.7.3"
  }
 },
 "nbformat": 4,
 "nbformat_minor": 2
}
